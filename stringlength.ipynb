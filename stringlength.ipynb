{
  "nbformat": 4,
  "nbformat_minor": 0,
  "metadata": {
    "colab": {
      "name": "Untitled5.ipynb",
      "provenance": [],
      "authorship_tag": "ABX9TyOOmPpXWOVHPth2oiQKQ5oW",
      "include_colab_link": true
    },
    "kernelspec": {
      "name": "python3",
      "display_name": "Python 3"
    },
    "language_info": {
      "name": "python"
    }
  },
  "cells": [
    {
      "cell_type": "markdown",
      "metadata": {
        "id": "view-in-github",
        "colab_type": "text"
      },
      "source": [
        "<a href=\"https://colab.research.google.com/github/nirmalapriya/Imageprocessing/blob/main/stringlength.ipynb\" target=\"_parent\"><img src=\"https://colab.research.google.com/assets/colab-badge.svg\" alt=\"Open In Colab\"/></a>"
      ]
    },
    {
      "cell_type": "code",
      "execution_count": 8,
      "metadata": {
        "colab": {
          "base_uri": "https://localhost:8080/"
        },
        "id": "A2CWaqzPtIDZ",
        "outputId": "c458e331-ddad-49a3-d68e-3fec31cf2862"
      },
      "outputs": [
        {
          "output_type": "stream",
          "name": "stdout",
          "text": [
            "3\n"
          ]
        }
      ],
      "source": [
        "a=['abc','123', 'ece' ,'ccc', 'aa' ,'1we1']\n",
        "count=0\n",
        "for i in a:\n",
        "  if len(i)>2 and i[0]==i[-1]:\n",
        "     count+=1\n",
        "print (count)"
      ]
    }
  ]
}